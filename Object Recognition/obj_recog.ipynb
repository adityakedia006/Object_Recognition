{
 "cells": [
  {
   "cell_type": "code",
   "execution_count": 1,
   "metadata": {},
   "outputs": [
    {
     "name": "stdout",
     "output_type": "stream",
     "text": [
      "Downloading: 100.00%\n",
      "Download completed!\n"
     ]
    }
   ],
   "source": [
    "import os\n",
    "import requests\n",
    "import tarfile\n",
    "\n",
    "def download_cifar10(url, save_path):\n",
    "    response = requests.get(url, stream=True)\n",
    "    total_size = int(response.headers.get('content-length', 0))\n",
    "    chunk_size = 1024\n",
    "    with open(save_path, 'wb') as f:\n",
    "        for data in response.iter_content(chunk_size=chunk_size):\n",
    "            f.write(data)\n",
    "            downloaded_size = os.path.getsize(save_path)\n",
    "            progress = 100 * downloaded_size / total_size\n",
    "            print('\\rDownloading: {:.2f}%'.format(progress), end='', flush=True)\n",
    "    print(\"\\nDownload completed!\")\n",
    "\n",
    "# Download CIFAR-10 dataset\n",
    "cifar10_url = \"https://www.cs.toronto.edu/~kriz/cifar-10-python.tar.gz\"\n",
    "save_path = \"./cifar-10-python.tar.gz\"\n",
    "download_cifar10(cifar10_url, save_path)"
   ]
  },
  {
   "cell_type": "code",
   "execution_count": 8,
   "metadata": {
    "scrolled": true
   },
   "outputs": [
    {
     "name": "stdout",
     "output_type": "stream",
     "text": [
      "Extraction completed!\n"
     ]
    }
   ],
   "source": [
    "import tarfile\n",
    "\n",
    "def extract_cifar10(archive_path, extract_dir):\n",
    "    with tarfile.open(archive_path, 'r:gz') as tar:\n",
    "        tar.extractall(extract_dir)\n",
    "    print(\"Extraction completed!\")\n",
    "\n",
    "archive_path = \"./cifar-10-python.tar.gz\"\n",
    "extract_dir = \"./cifar-10-python\"\n",
    "extract_cifar10(archive_path, extract_dir)\n"
   ]
  },
  {
   "cell_type": "code",
   "execution_count": 4,
   "metadata": {},
   "outputs": [
    {
     "name": "stdout",
     "output_type": "stream",
     "text": [
      "Error loading CIFAR-10 dataset: [WinError 3] The system cannot find the path specified: '/content/cifar-10-batches-py'\n"
     ]
    },
    {
     "ename": "ValueError",
     "evalue": "With n_samples=0, test_size=0.2 and train_size=0.8, the resulting train set will be empty. Adjust any of the aforementioned parameters.",
     "output_type": "error",
     "traceback": [
      "\u001b[1;31m---------------------------------------------------------------------------\u001b[0m",
      "\u001b[1;31mValueError\u001b[0m                                Traceback (most recent call last)",
      "Cell \u001b[1;32mIn[4], line 39\u001b[0m\n\u001b[0;32m     35\u001b[0m images, labels \u001b[38;5;241m=\u001b[39m load_cifar10(data_dir)\n\u001b[0;32m     37\u001b[0m processed_images \u001b[38;5;241m=\u001b[39m preprocess_images(images)\n\u001b[1;32m---> 39\u001b[0m X_train, X_test, y_train, y_test \u001b[38;5;241m=\u001b[39m train_test_split(processed_images, labels, train_size\u001b[38;5;241m=\u001b[39m\u001b[38;5;241m0.8\u001b[39m, test_size\u001b[38;5;241m=\u001b[39m\u001b[38;5;241m0.2\u001b[39m, random_state\u001b[38;5;241m=\u001b[39m\u001b[38;5;241m42\u001b[39m)\n\u001b[0;32m     41\u001b[0m n_classes \u001b[38;5;241m=\u001b[39m \u001b[38;5;28mlen\u001b[39m(np\u001b[38;5;241m.\u001b[39munique(y_train))\n\u001b[0;32m     43\u001b[0m n_classes \u001b[38;5;241m=\u001b[39m \u001b[38;5;28mlen\u001b[39m(np\u001b[38;5;241m.\u001b[39munique(y_train))\n",
      "File \u001b[1;32mC:\\ProgramData\\anaconda3\\Lib\\site-packages\\sklearn\\utils\\_param_validation.py:211\u001b[0m, in \u001b[0;36mvalidate_params.<locals>.decorator.<locals>.wrapper\u001b[1;34m(*args, **kwargs)\u001b[0m\n\u001b[0;32m    205\u001b[0m \u001b[38;5;28;01mtry\u001b[39;00m:\n\u001b[0;32m    206\u001b[0m     \u001b[38;5;28;01mwith\u001b[39;00m config_context(\n\u001b[0;32m    207\u001b[0m         skip_parameter_validation\u001b[38;5;241m=\u001b[39m(\n\u001b[0;32m    208\u001b[0m             prefer_skip_nested_validation \u001b[38;5;129;01mor\u001b[39;00m global_skip_validation\n\u001b[0;32m    209\u001b[0m         )\n\u001b[0;32m    210\u001b[0m     ):\n\u001b[1;32m--> 211\u001b[0m         \u001b[38;5;28;01mreturn\u001b[39;00m func(\u001b[38;5;241m*\u001b[39margs, \u001b[38;5;241m*\u001b[39m\u001b[38;5;241m*\u001b[39mkwargs)\n\u001b[0;32m    212\u001b[0m \u001b[38;5;28;01mexcept\u001b[39;00m InvalidParameterError \u001b[38;5;28;01mas\u001b[39;00m e:\n\u001b[0;32m    213\u001b[0m     \u001b[38;5;66;03m# When the function is just a wrapper around an estimator, we allow\u001b[39;00m\n\u001b[0;32m    214\u001b[0m     \u001b[38;5;66;03m# the function to delegate validation to the estimator, but we replace\u001b[39;00m\n\u001b[0;32m    215\u001b[0m     \u001b[38;5;66;03m# the name of the estimator by the name of the function in the error\u001b[39;00m\n\u001b[0;32m    216\u001b[0m     \u001b[38;5;66;03m# message to avoid confusion.\u001b[39;00m\n\u001b[0;32m    217\u001b[0m     msg \u001b[38;5;241m=\u001b[39m re\u001b[38;5;241m.\u001b[39msub(\n\u001b[0;32m    218\u001b[0m         \u001b[38;5;124mr\u001b[39m\u001b[38;5;124m\"\u001b[39m\u001b[38;5;124mparameter of \u001b[39m\u001b[38;5;124m\\\u001b[39m\u001b[38;5;124mw+ must be\u001b[39m\u001b[38;5;124m\"\u001b[39m,\n\u001b[0;32m    219\u001b[0m         \u001b[38;5;124mf\u001b[39m\u001b[38;5;124m\"\u001b[39m\u001b[38;5;124mparameter of \u001b[39m\u001b[38;5;132;01m{\u001b[39;00mfunc\u001b[38;5;241m.\u001b[39m\u001b[38;5;18m__qualname__\u001b[39m\u001b[38;5;132;01m}\u001b[39;00m\u001b[38;5;124m must be\u001b[39m\u001b[38;5;124m\"\u001b[39m,\n\u001b[0;32m    220\u001b[0m         \u001b[38;5;28mstr\u001b[39m(e),\n\u001b[0;32m    221\u001b[0m     )\n",
      "File \u001b[1;32mC:\\ProgramData\\anaconda3\\Lib\\site-packages\\sklearn\\model_selection\\_split.py:2617\u001b[0m, in \u001b[0;36mtrain_test_split\u001b[1;34m(test_size, train_size, random_state, shuffle, stratify, *arrays)\u001b[0m\n\u001b[0;32m   2614\u001b[0m arrays \u001b[38;5;241m=\u001b[39m indexable(\u001b[38;5;241m*\u001b[39marrays)\n\u001b[0;32m   2616\u001b[0m n_samples \u001b[38;5;241m=\u001b[39m _num_samples(arrays[\u001b[38;5;241m0\u001b[39m])\n\u001b[1;32m-> 2617\u001b[0m n_train, n_test \u001b[38;5;241m=\u001b[39m _validate_shuffle_split(\n\u001b[0;32m   2618\u001b[0m     n_samples, test_size, train_size, default_test_size\u001b[38;5;241m=\u001b[39m\u001b[38;5;241m0.25\u001b[39m\n\u001b[0;32m   2619\u001b[0m )\n\u001b[0;32m   2621\u001b[0m \u001b[38;5;28;01mif\u001b[39;00m shuffle \u001b[38;5;129;01mis\u001b[39;00m \u001b[38;5;28;01mFalse\u001b[39;00m:\n\u001b[0;32m   2622\u001b[0m     \u001b[38;5;28;01mif\u001b[39;00m stratify \u001b[38;5;129;01mis\u001b[39;00m \u001b[38;5;129;01mnot\u001b[39;00m \u001b[38;5;28;01mNone\u001b[39;00m:\n",
      "File \u001b[1;32mC:\\ProgramData\\anaconda3\\Lib\\site-packages\\sklearn\\model_selection\\_split.py:2273\u001b[0m, in \u001b[0;36m_validate_shuffle_split\u001b[1;34m(n_samples, test_size, train_size, default_test_size)\u001b[0m\n\u001b[0;32m   2270\u001b[0m n_train, n_test \u001b[38;5;241m=\u001b[39m \u001b[38;5;28mint\u001b[39m(n_train), \u001b[38;5;28mint\u001b[39m(n_test)\n\u001b[0;32m   2272\u001b[0m \u001b[38;5;28;01mif\u001b[39;00m n_train \u001b[38;5;241m==\u001b[39m \u001b[38;5;241m0\u001b[39m:\n\u001b[1;32m-> 2273\u001b[0m     \u001b[38;5;28;01mraise\u001b[39;00m \u001b[38;5;167;01mValueError\u001b[39;00m(\n\u001b[0;32m   2274\u001b[0m         \u001b[38;5;124m\"\u001b[39m\u001b[38;5;124mWith n_samples=\u001b[39m\u001b[38;5;132;01m{}\u001b[39;00m\u001b[38;5;124m, test_size=\u001b[39m\u001b[38;5;132;01m{}\u001b[39;00m\u001b[38;5;124m and train_size=\u001b[39m\u001b[38;5;132;01m{}\u001b[39;00m\u001b[38;5;124m, the \u001b[39m\u001b[38;5;124m\"\u001b[39m\n\u001b[0;32m   2275\u001b[0m         \u001b[38;5;124m\"\u001b[39m\u001b[38;5;124mresulting train set will be empty. Adjust any of the \u001b[39m\u001b[38;5;124m\"\u001b[39m\n\u001b[0;32m   2276\u001b[0m         \u001b[38;5;124m\"\u001b[39m\u001b[38;5;124maforementioned parameters.\u001b[39m\u001b[38;5;124m\"\u001b[39m\u001b[38;5;241m.\u001b[39mformat(n_samples, test_size, train_size)\n\u001b[0;32m   2277\u001b[0m     )\n\u001b[0;32m   2279\u001b[0m \u001b[38;5;28;01mreturn\u001b[39;00m n_train, n_test\n",
      "\u001b[1;31mValueError\u001b[0m: With n_samples=0, test_size=0.2 and train_size=0.8, the resulting train set will be empty. Adjust any of the aforementioned parameters."
     ]
    }
   ],
   "source": [
    "import os\n",
    "import numpy as np\n",
    "import cv2\n",
    "from sklearn.model_selection import train_test_split\n",
    "import pickle\n",
    "def load_cifar10(data_dir):\n",
    "    images = []\n",
    "    labels = []\n",
    "    try:\n",
    "        for file in os.listdir(data_dir):\n",
    "            if file.startswith('data_batch') or file.startswith('test_batch'):\n",
    "                with open(os.path.join(data_dir, file), 'rb') as fo:\n",
    "                    cifar_data = pickle.load(fo, encoding='bytes')\n",
    "                    for i, image_data in enumerate(cifar_data[b'data']):\n",
    "                        # CIFAR-10 images are in CHW format (channels, height, width)\n",
    "                        # Reshape the image to HWC format (height, width, channels)\n",
    "                        image = np.transpose(np.reshape(image_data, (3, 32, 32)), (1, 2, 0))\n",
    "                        image = cv2.cvtColor(image, cv2.COLOR_BGR2GRAY)\n",
    "                        label = cifar_data[b'labels'][i]\n",
    "                        images.append(image)\n",
    "                        labels.append(label)\n",
    "    except Exception as e:\n",
    "        print(\"Error loading CIFAR-10 dataset:\", e)\n",
    "    return np.array(images), np.array(labels)\n",
    "\n",
    "\n",
    "# Function to preprocess images\n",
    "def preprocess_images(images):\n",
    "    # Resize images to a fixed size (e.g., 32x32)\n",
    "    resized_images = [cv2.resize(image, (64, 64)) for image in images]\n",
    "    processed_images = np.array(resized_images, dtype=np.float32) / 255.0\n",
    "    return processed_images\n",
    "\n",
    "data_dir = '/content/cifar-10-python/cifar-10-batches-py'\n",
    "images, labels = load_cifar10(data_dir)\n",
    "\n",
    "processed_images = preprocess_images(images)\n",
    "\n",
    "X_train, X_test, y_train, y_test = train_test_split(processed_images, labels, train_size=0.8, test_size=0.2, random_state=42)\n",
    "\n",
    "n_classes = len(np.unique(y_train))\n",
    "\n",
    "n_classes = len(np.unique(y_train))\n",
    "\n",
    "print(\"Number of training samples:\", len(X_train))\n",
    "print(\"Number of test samples:\", len(X_test))\n",
    "print(\"Image shape:\", X_train[0].shape)\n",
    "print(\"Number of classes:\", n_classes)\n"
   ]
  },
  {
   "cell_type": "code",
   "execution_count": null,
   "metadata": {},
   "outputs": [],
   "source": [
    "import matplotlib.pyplot as plt\n",
    "\n",
    "def plot_images(images, labels, num_images=5):\n",
    "    fig, axes = plt.subplots(1, num_images, figsize=(15, 3))\n",
    "    for i in range(num_images):\n",
    "        axes[i].imshow(images[i])\n",
    "        axes[i].set_title(\"Label: {}\".format(labels[i]))\n",
    "        axes[i].axis('off')\n",
    "    plt.tight_layout()\n",
    "    plt.show()\n",
    "\n",
    "plot_images(X_train[:5], y_train[:5])\n"
   ]
  },
  {
   "cell_type": "code",
   "execution_count": null,
   "metadata": {},
   "outputs": [],
   "source": [
    "from sklearn.decomposition import PCA\n",
    "from sklearn.discriminant_analysis import LinearDiscriminantAnalysis\n",
    "from sklearn.svm import SVC\n",
    "from sklearn.preprocessing import StandardScaler\n",
    "\n",
    "X_train_flat = X_train.reshape(len(X_train), -1)\n",
    "X_test_flat = X_test.reshape(len(X_test), -1)\n",
    "\n",
    "pca = PCA(n_components=150)\n",
    "X_train_pca = pca.fit_transform(X_train_flat)\n",
    "X_test_pca = pca.transform(X_test_flat)\n",
    "\n",
    "lda = LinearDiscriminantAnalysis(n_components=n_classes-1)\n",
    "X_train_lda = lda.fit_transform(X_train_flat, y_train)\n",
    "X_test_lda = lda.transform(X_test_flat)\n",
    "\n",
    "scaler = StandardScaler()\n",
    "X_train_scaled = scaler.fit_transform(X_train_flat)\n",
    "X_test_scaled = scaler.transform(X_test_flat)\n",
    "\n",
    "svm = SVC(kernel='linear', random_state=42)\n",
    "svm.fit(X_train_scaled, y_train)\n",
    "\n",
    "\n",
    "X_train_pca_scaled = scaler.fit_transform(X_train_pca)\n",
    "X_test_pca_scaled = scaler.transform(X_test_pca)\n",
    "\n",
    "svm_pca = SVC(kernel='linear', random_state=42)\n",
    "svm_pca.fit(X_train_pca_scaled, y_train)\n",
    "\n",
    "X_train_lda_scaled = scaler.fit_transform(X_train_lda)\n",
    "X_test_lda_scaled = scaler.transform(X_test_lda)\n",
    "\n",
    "svm_lda = SVC(kernel='linear', random_state=42)\n",
    "svm_lda.fit(X_train_lda_scaled, y_train)\n",
    "\n",
    "\n",
    "# print(\"Shape of PCA-transformed training data:\", X_train_pca.shape)\n",
    "# print(\"Shape of LDA-transformed training data:\", X_train_lda.shape)\n"
   ]
  },
  {
   "cell_type": "code",
   "execution_count": null,
   "metadata": {},
   "outputs": [],
   "source": [
    "from sklearn.neighbors import KNeighborsClassifier\n",
    "from sklearn.metrics import accuracy_score\n",
    "\n",
    "\n",
    "knn = KNeighborsClassifier(n_neighbors=5)\n",
    "\n",
    "knn.fit(X_train_pca, y_train)\n",
    "\n",
    "y_pred_pca = knn.predict(X_test_pca)\n",
    "\n",
    "accuracy_pca = accuracy_score(y_test, y_pred_pca)\n",
    "print(\"Accuracy on PCA-transformed test data:\", accuracy_pca)\n",
    "\n",
    "\n",
    "knn.fit(X_train_lda, y_train)\n",
    "\n",
    "y_pred_lda = knn.predict(X_test_lda)\n",
    "\n",
    "accuracy_lda = accuracy_score(y_test, y_pred_lda)\n",
    "print(\"Accuracy on LDA-transformed test data:\", accuracy_lda)\n",
    "\n",
    "\n",
    "y_pred_svm = svm.predict(X_test_scaled)\n",
    "\n",
    "accuracy_svm = accuracy_score(y_test, y_pred_svm)\n",
    "print(\"Accuracy on SVM data:\", accuracy_svm)\n",
    "\n",
    "y_pred_svm_pca = svm_pca.predict(X_test_pca_scaled)\n",
    "\n",
    "accuracy_svm_pca = accuracy_score(y_test, y_pred_svm_pca)\n",
    "print(\"Accuracy on SVM with PCA:\", accuracy_svm_pca)\n",
    "\n",
    "\n",
    "y_pred_svm_lda = svm_lda.predict(X_test_lda_scaled)\n",
    "\n",
    "accuracy_svm_lda = accuracy_score(y_test, y_pred_svm_lda)\n",
    "print(\"Accuracy on SVM with LDA:\", accuracy_svm_lda)\n"
   ]
  },
  {
   "cell_type": "code",
   "execution_count": null,
   "metadata": {},
   "outputs": [],
   "source": []
  }
 ],
 "metadata": {
  "kernelspec": {
   "display_name": "Python 3 (ipykernel)",
   "language": "python",
   "name": "python3"
  },
  "language_info": {
   "codemirror_mode": {
    "name": "ipython",
    "version": 3
   },
   "file_extension": ".py",
   "mimetype": "text/x-python",
   "name": "python",
   "nbconvert_exporter": "python",
   "pygments_lexer": "ipython3",
   "version": "3.11.5"
  }
 },
 "nbformat": 4,
 "nbformat_minor": 2
}
