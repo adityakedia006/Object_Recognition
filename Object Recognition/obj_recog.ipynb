{
 "cells": [
  {
   "cell_type": "code",
   "execution_count": 1,
   "metadata": {},
   "outputs": [
    {
     "name": "stdout",
     "output_type": "stream",
     "text": [
      "Downloading: 100.00%\n",
      "Download completed!\n"
     ]
    }
   ],
   "source": [
    "import os\n",
    "import requests\n",
    "import tarfile\n",
    "\n",
    "def download_cifar10(url, save_path):\n",
    "    response = requests.get(url, stream=True)\n",
    "    total_size = int(response.headers.get('content-length', 0))\n",
    "    chunk_size = 1024\n",
    "    with open(save_path, 'wb') as f:\n",
    "        for data in response.iter_content(chunk_size=chunk_size):\n",
    "            f.write(data)\n",
    "            downloaded_size = os.path.getsize(save_path)\n",
    "            progress = 100 * downloaded_size / total_size\n",
    "            print('\\rDownloading: {:.2f}%'.format(progress), end='', flush=True)\n",
    "    print(\"\\nDownload completed!\")\n",
    "\n",
    "# Download CIFAR-10 dataset\n",
    "cifar10_url = \"https://www.cs.toronto.edu/~kriz/cifar-10-python.tar.gz\"\n",
    "save_path = \"./cifar-10-python.tar.gz\"\n",
    "download_cifar10(cifar10_url, save_path)"
   ]
  },
  {
   "cell_type": "code",
   "execution_count": 1,
   "metadata": {
    "scrolled": true
   },
   "outputs": [
    {
     "name": "stdout",
     "output_type": "stream",
     "text": [
      "Extraction completed!\n"
     ]
    }
   ],
   "source": [
    "import tarfile\n",
    "\n",
    "def extract_cifar10(archive_path, extract_dir):\n",
    "    with tarfile.open(archive_path, 'r:gz') as tar:\n",
    "        tar.extractall(extract_dir)\n",
    "    print(\"Extraction completed!\")\n",
    "\n",
    "archive_path = \"cifar-10-python.tar.gz\"\n",
    "extract_dir = \"cifar-10-python\"\n",
    "extract_cifar10(archive_path, extract_dir)\n"
   ]
  },
  {
   "cell_type": "code",
   "execution_count": 43,
   "metadata": {},
   "outputs": [
    {
     "name": "stdout",
     "output_type": "stream",
     "text": [
      "Number of training samples: 48000\n",
      "Number of test samples: 12000\n",
      "Image shape: (48000, 64, 64)\n",
      "Number of classes: 10\n"
     ]
    },
    {
     "data": {
      "text/plain": [
       "array([6, 9, 9, ..., 5, 1, 7])"
      ]
     },
     "execution_count": 43,
     "metadata": {},
     "output_type": "execute_result"
    }
   ],
   "source": [
    "import os\n",
    "import numpy as np\n",
    "import cv2\n",
    "from sklearn.model_selection import train_test_split\n",
    "import pickle\n",
    "def load_cifar10(data_dir):\n",
    "    images = []\n",
    "    labels = []\n",
    "    try:\n",
    "        for file in os.listdir(data_dir):\n",
    "            if file.startswith('data_batch') or file.startswith('test_batch'):\n",
    "                with open(os.path.join(data_dir, file), 'rb') as fo:\n",
    "                    cifar_data = pickle.load(fo, encoding='bytes')\n",
    "                    for i, image_data in enumerate(cifar_data[b'data']):\n",
    "                        # CIFAR-10 images are in CHW format (channels, height, width)\n",
    "                        # Reshape the image to HWC format (height, width, channels)\n",
    "                        image = np.transpose(np.reshape(image_data, (3, 32, 32)), (1, 2, 0))\n",
    "                        image = cv2.cvtColor(image, cv2.COLOR_BGR2GRAY)\n",
    "                        label = cifar_data[b'labels'][i]\n",
    "                        images.append(image)\n",
    "                        labels.append(label)\n",
    "    except Exception as e:\n",
    "        print(\"Error loading CIFAR-10 dataset:\", e)\n",
    "    return np.array(images), np.array(labels)\n",
    "\n",
    "\n",
    "# Function to preprocess images\n",
    "def preprocess_images(images):\n",
    "    # Resize images to a fixed size (e.g., 32x32)\n",
    "    resized_images = [cv2.resize(image, (64, 64)) for image in images]\n",
    "    processed_images = np.array(resized_images, dtype=np.float32) / 255.0\n",
    "    return processed_images\n",
    "\n",
    "data_dir = 'cifar-10-python/cifar-10-batches-py'\n",
    "images, labels = load_cifar10(data_dir)\n",
    "\n",
    "processed_images = preprocess_images(images)\n",
    "\n",
    "X_train, X_test, y_train, y_test = train_test_split(processed_images, labels, train_size=0.8, test_size=0.2, random_state=42)\n",
    "\n",
    "n_classes = len(np.unique(y_train))\n",
    "\n",
    "n_classes = len(np.unique(y_train))\n",
    "\n",
    "print(\"Number of training samples:\", len(X_train))\n",
    "print(\"Number of test samples:\", len(X_test))\n",
    "print(\"Image shape:\", X_train.shape)\n",
    "print(\"Number of classes:\", n_classes)\n",
    "\n",
    "processed_images\n",
    "labels"
   ]
  },
  {
   "cell_type": "code",
   "execution_count": 28,
   "metadata": {},
   "outputs": [
    {
     "data": {
      "image/png": "[encoded data removed]",
      "text/plain": [
       "<Figure size 1500x300 with 5 Axes>"
      ]
     },
     "metadata": {},
     "output_type": "display_data"
    }
   ],
   "source": [
    "import matplotlib.pyplot as plt\n",
    "\n",
    "def plot_images(images, labels, num_images=5):\n",
    "    fig, axes = plt.subplots(1, num_images, figsize=(15, 3))\n",
    "    for i in range(num_images):\n",
    "        axes[i].imshow(images[i])\n",
    "        axes[i].set_title(\"Label: {}\".format(labels[i]))\n",
    "        axes[i].axis('off')\n",
    "    plt.tight_layout()\n",
    "    plt.show()\n",
    "\n",
    "plot_images(X_train[:5], y_train[:5])\n"
   ]
  },
  {
   "cell_type": "code",
   "execution_count": null,
   "metadata": {},
   "outputs": [],
   "source": [
    "from sklearn.decomposition import PCA\n",
    "from sklearn.discriminant_analysis import LinearDiscriminantAnalysis\n",
    "from sklearn.svm import SVC\n",
    "from sklearn.preprocessing import StandardScaler\n",
    "\n",
    "X_train_flat = X_train.reshape(len(X_train), -1)\n",
    "X_test_flat = X_test.reshape(len(X_test), -1)\n",
    "\n",
    "pca = PCA(n_components=150)\n",
    "X_train_pca = pca.fit_transform(X_train_flat)\n",
    "X_test_pca = pca.transform(X_test_flat)\n",
    "\n",
    "lda = LinearDiscriminantAnalysis(n_components=n_classes-1)\n",
    "X_train_lda = lda.fit_transform(X_train_flat, y_train)\n",
    "X_test_lda = lda.transform(X_test_flat)\n",
    "\n",
    "# print(\"Shape of PCA-transformed training data:\", X_train_pca.shape)\n",
    "# print(\"Shape of LDA-transformed training data:\", X_train_lda.shape)\n"
   ]
  },
  {
   "cell_type": "code",
   "execution_count": null,
   "metadata": {},
   "outputs": [],
   "source": [
    "from sklearn.neighbors import KNeighborsClassifier\n",
    "from sklearn.metrics import accuracy_score\n",
    "\n",
    "\n",
    "knn = KNeighborsClassifier(n_neighbors=5)\n",
    "\n",
    "knn.fit(X_train_pca, y_train)\n",
    "\n",
    "y_pred_pca = knn.predict(X_test_pca)\n",
    "\n",
    "accuracy_pca = accuracy_score(y_test, y_pred_pca)\n",
    "print(\"Accuracy on PCA-transformed test data:\", accuracy_pca)\n",
    "\n",
    "\n",
    "knn.fit(X_train_lda, y_train)\n",
    "\n",
    "y_pred_lda = knn.predict(X_test_lda)\n",
    "\n",
    "accuracy_lda = accuracy_score(y_test, y_pred_lda)\n",
    "print(\"Accuracy on LDA-transformed test data:\", accuracy_lda)\n"
   ]
  },
  {
   "cell_type": "code",
   "execution_count": null,
   "metadata": {},
   "outputs": [],
   "source": [
    "import numpy as np\n",
    "from sklearn.cluster import KMeans\n",
    "from PIL import Image\n",
    "import matplotlib.pyplot as plt\n",
    "\n",
    "\n",
    "import warnings\n",
    "warnings.filterwarnings(\"ignore\")\n",
    "\n",
    "# Flatten the images\n",
    "X_train_flat = X_train.reshape(X_train.shape[0], -1)\n",
    "X_test_flat = X_test.reshape(X_test.shape[0], -1)\n",
    "\n",
    "# Initialize Random Forest classifier\n",
    "rf_classifier = RandomForestClassifier(n_estimators=100, random_state=42)\n",
    "\n",
    "# Train the classifier\n",
    "rf_classifier.fit(X_train_flat, y_train)\n",
    "\n",
    "# Predictions on the test set\n",
    "y_pred = rf_classifier.predict(X_test_flat)\n",
    "\n",
    "# Calculate accuracy\n",
    "accuracy = accuracy_score(y_test, y_pred)\n",
    "print(\"Accuracy:\", accuracy)\n",
    "\n",
    "# Classification report\n",
    "print(\"\\nClassification Report:\")\n",
    "print(classification_report(y_test, y_pred))\n",
    "\n",
    "# Confusion matrix\n",
    "print(\"\\nConfusion Matrix:\")\n",
    "print(confusion_matrix(y_test, y_pred))\n",
    "\n"
   ]
  },
  {
   "cell_type": "code",
   "execution_count": 42,
   "metadata": {
    "scrolled": true
   },
   "outputs": [
    {
     "data": {
      "application/vnd.jupyter.widget-view+json": {
       "model_id": "751284165e324b34aa3f64f5a307a0c3",
       "version_major": 2,
       "version_minor": 0
      },
      "text/plain": [
       "  0%|          | 0/100 [00:00<?, ?it/s]"
      ]
     },
     "metadata": {},
     "output_type": "display_data"
    },
    {
     "name": "stdout",
     "output_type": "stream",
     "text": [
      "Accuracy of the model: 9.90%\n"
     ]
    }
   ],
   "source": [
    "import torch\n",
    "import math\n",
    "import torch.nn as nn\n",
    "import torch.nn.functional as F\n",
    "import torch.utils.data as data\n",
    "from tqdm.notebook import tqdm\n",
    "\n",
    "device = torch.device(\"cuda\") if torch.cuda.is_available() else torch.device(\"cpu\")\n",
    "\n",
    "\n",
    "class SimpleClassifier(nn.Module):\n",
    "\n",
    "    def __init__(self, num_inputs, num_hidden, num_outputs):\n",
    "        super().__init__()\n",
    "        self.flatten = nn.Flatten()\n",
    "        # Initialize the modules we need to build the network\n",
    "        self.linear1 = nn.Linear(num_inputs, num_hidden)\n",
    "        self.act_fn = nn.Tanh()\n",
    "        self.linear2 = nn.Linear(num_hidden, num_outputs)\n",
    "\n",
    "    def forward(self, x):\n",
    "        # Perform the calculation of the model to determine the prediction\n",
    "        x = self.flatten(x)\n",
    "        x = self.linear1(x)\n",
    "        x = self.act_fn(x)\n",
    "        x = self.linear2(x)\n",
    "        return x\n",
    "\n",
    "model = SimpleClassifier(num_inputs=4096, num_hidden=1000, num_outputs=10)\n",
    "model.to(device)\n",
    "\n",
    "\n",
    "train_dataset = data.TensorDataset(torch.tensor(X_train, dtype=torch.float32), torch.tensor(y_train, dtype=torch.long))\n",
    "train_data_loader = data.DataLoader(train_dataset, batch_size=128, shuffle=True)\n",
    "\n",
    "loss_module = nn.BCEWithLogitsLoss()\n",
    "\n",
    "# Input to the optimizer are the parameters of the model: model.parameters()\n",
    "optimizer = torch.optim.SGD(model.parameters(), lr=0.26)\n",
    "\n",
    "def train_model(model, optimizer, data_loader, loss_module, num_epochs=100):\n",
    "    # Set model to train mode\n",
    "    model.train()\n",
    "\n",
    "    # Training loop\n",
    "    for epoch in tqdm(range(num_epochs)):\n",
    "        for data_inputs, data_labels in data_loader:\n",
    "\n",
    "            ## Step 1: Move input data to device (only strictly necessary if we use GPU)\n",
    "            data_inputs = data_inputs.to(device)\n",
    "#             data_labels = data_labels.to(device)\n",
    "            data_labels = data_labels.to(device).float().requires_grad_()\n",
    "\n",
    "            ## Step 2: Run the model on the input data\n",
    "            preds = model(data_inputs)\n",
    "            preds = preds.squeeze(dim=1) # Output is [Batch size, 1], but we want [Batch size]\n",
    "            max_values, max_indices = torch.max(preds, dim=1) \n",
    "            max_indices = max_indices.to(torch.float32)\n",
    "\n",
    "            ## Step 3: Calculate the loss\n",
    "            loss = loss_module(max_indices, data_labels.float())\n",
    "\n",
    "            ## Step 4: Perform backpropagation\n",
    "            # Before calculating the gradients, we need to ensure that they are all zero.\n",
    "            # The gradients would not be overwritten, but actually added to the existing ones.\n",
    "            optimizer.zero_grad()\n",
    "            # Perform backpropagation\n",
    "            loss.backward()\n",
    "\n",
    "            ## Step 5: Update the parameters\n",
    "            optimizer.step()\n",
    "            \n",
    "\n",
    "train_model(model, optimizer, train_data_loader, loss_module)\n",
    "\n",
    "test_dataset = data.TensorDataset(torch.tensor(X_test, dtype=torch.float32), torch.tensor(y_test, dtype=torch.long))\n",
    "test_data_loader = data.DataLoader(test_dataset, batch_size=128, shuffle=False, drop_last=False)\n",
    "\n",
    "def eval_model(model, data_loader):\n",
    "    model.eval() # Set model to eval mode\n",
    "    true_preds, num_preds = 0., 0.\n",
    "\n",
    "    with torch.no_grad(): # Deactivate gradients for the following code\n",
    "        for data_inputs, data_labels in data_loader:\n",
    "\n",
    "            # Determine prediction of model on dev set\n",
    "            data_inputs, data_labels = data_inputs.to(device), data_labels.to(device).float().requires_grad_()\n",
    "            preds = model(data_inputs)\n",
    "            preds = preds.squeeze(dim=1)\n",
    "            preds = torch.sigmoid(preds) # Sigmoid to map predictions between 0 and 1\n",
    "            max_values, max_indices = torch.max(preds, dim=1) \n",
    "            max_indices = max_indices.to(torch.float32)\n",
    "            pred_labels = (max_indices >= 0.5).long() # Binarize predictions to 0 and 1\n",
    "\n",
    "            # Keep records of predictions for the accuracy metric (true_preds=TP+TN, num_preds=TP+TN+FP+FN)\n",
    "            true_preds += (pred_labels == data_labels).sum()\n",
    "            num_preds += data_labels.shape[0]\n",
    "\n",
    "    acc = true_preds / num_preds\n",
    "    print(f\"Accuracy of the model: {100.0*acc:4.2f}%\")\n",
    "    \n",
    "\n",
    "eval_model(model, test_data_loader)"
   ]
  },
  {
   "cell_type": "code",
   "execution_count": null,
   "metadata": {},
   "outputs": [],
   "source": []
  },
  {
   "cell_type": "code",
   "execution_count": null,
   "metadata": {},
   "outputs": [],
   "source": []
  }
 ],
 "metadata": {
  "kernelspec": {
   "display_name": "Python 3 (ipykernel)",
   "language": "python",
   "name": "python3"
  },
  "language_info": {
   "codemirror_mode": {
    "name": "ipython",
    "version": 3
   },
   "file_extension": ".py",
   "mimetype": "text/x-python",
   "name": "python",
   "nbconvert_exporter": "python",
   "pygments_lexer": "ipython3",
   "version": "3.11.5"
  }
 },
 "nbformat": 4,
 "nbformat_minor": 2
}
