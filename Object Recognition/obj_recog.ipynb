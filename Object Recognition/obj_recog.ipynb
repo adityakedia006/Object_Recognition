{
 "cells": [
  {
   "cell_type": "code",
   "execution_count": null,
   "metadata": {},
   "outputs": [
    {
     "name": "stdout",
     "output_type": "stream",
     "text": [
      "Downloading: 30.45%"
     ]
    }
   ],
   "source": [
    "import os\n",
    "import requests\n",
    "import tarfile\n",
    "\n",
    "def download_cifar10(url, save_path):\n",
    "    response = requests.get(url, stream=True)\n",
    "    total_size = int(response.headers.get('content-length', 0))\n",
    "    chunk_size = 1024\n",
    "    with open(save_path, 'wb') as f:\n",
    "        for data in response.iter_content(chunk_size=chunk_size):\n",
    "            f.write(data)\n",
    "            downloaded_size = os.path.getsize(save_path)\n",
    "            progress = 100 * downloaded_size / total_size\n",
    "            print('\\rDownloading: {:.2f}%'.format(progress), end='', flush=True)\n",
    "    print(\"\\nDownload completed!\")\n",
    "\n",
    "# Download CIFAR-10 dataset\n",
    "cifar10_url = \"https://www.cs.toronto.edu/~kriz/cifar-10-python.tar.gz\"\n",
    "save_path = \"./cifar-10-python.tar.gz\"\n",
    "download_cifar10(cifar10_url, save_path)"
   ]
  },
  {
   "cell_type": "code",
   "execution_count": null,
   "metadata": {},
   "outputs": [],
   "source": [
    "import tarfile\n",
    "\n",
    "def extract_cifar10(archive_path, extract_dir):\n",
    "    with tarfile.open(archive_path, 'r:gz') as tar:\n",
    "        tar.extractall(extract_dir)\n",
    "    print(\"Extraction completed!\")\n",
    "\n",
    "archive_path = \"./cifar-10-python.tar.gz\"\n",
    "extract_dir = \"./cifar-10-python\"\n",
    "extract_cifar10(archive_path, extract_dir)\n"
   ]
  },
  {
   "cell_type": "code",
   "execution_count": null,
   "metadata": {},
   "outputs": [],
   "source": [
    "import os\n",
    "import numpy as np\n",
    "import cv2\n",
    "from sklearn.model_selection import train_test_split\n",
    "import pickle\n",
    "def load_cifar10(data_dir):\n",
    "    images = []\n",
    "    labels = []\n",
    "    try:\n",
    "        for file in os.listdir(data_dir):\n",
    "            if file.startswith('data_batch') or file.startswith('test_batch'):\n",
    "                with open(os.path.join(data_dir, file), 'rb') as fo:\n",
    "                    cifar_data = pickle.load(fo, encoding='bytes')\n",
    "                    for i, image_data in enumerate(cifar_data[b'data']):\n",
    "                        # CIFAR-10 images are in CHW format (channels, height, width)\n",
    "                        # Reshape the image to HWC format (height, width, channels)\n",
    "                        image = np.transpose(np.reshape(image_data, (3, 32, 32)), (1, 2, 0))\n",
    "                        image = cv2.cvtColor(image, cv2.COLOR_BGR2GRAY)\n",
    "                        label = cifar_data[b'labels'][i]\n",
    "                        images.append(image)\n",
    "                        labels.append(label)\n",
    "    except Exception as e:\n",
    "        print(\"Error loading CIFAR-10 dataset:\", e)\n",
    "    return np.array(images), np.array(labels)\n",
    "\n",
    "\n",
    "# Function to preprocess images\n",
    "def preprocess_images(images):\n",
    "    # Resize images to a fixed size (e.g., 32x32)\n",
    "    resized_images = [cv2.resize(image, (64, 64)) for image in images]\n",
    "    processed_images = np.array(resized_images, dtype=np.float32) / 255.0\n",
    "    return processed_images\n",
    "\n",
    "data_dir = '/content/cifar-10-python/cifar-10-batches-py'\n",
    "images, labels = load_cifar10(data_dir)\n",
    "\n",
    "processed_images = preprocess_images(images)\n",
    "\n",
    "X_train, X_test, y_train, y_test = train_test_split(processed_images, labels, test_size=0.2, random_state=42)\n",
    "\n",
    "print(\"Number of training samples:\", len(X_train))\n",
    "print(\"Number of test samples:\", len(X_test))\n",
    "print(\"Image shape:\", X_train[0].shape)\n",
    "print(\"Number of classes:\", len(np.unique(y_train)))\n"
   ]
  },
  {
   "cell_type": "code",
   "execution_count": null,
   "metadata": {},
   "outputs": [],
   "source": [
    "import matplotlib.pyplot as plt\n",
    "\n",
    "def plot_images(images, labels, num_images=5):\n",
    "    fig, axes = plt.subplots(1, num_images, figsize=(15, 3))\n",
    "    for i in range(num_images):\n",
    "        axes[i].imshow(images[i])\n",
    "        axes[i].set_title(\"Label: {}\".format(labels[i]))\n",
    "        axes[i].axis('off')\n",
    "    plt.tight_layout()\n",
    "    plt.show()\n",
    "\n",
    "plot_images(X_train[:5], y_train[:5])\n"
   ]
  },
  {
   "cell_type": "code",
   "execution_count": null,
   "metadata": {},
   "outputs": [],
   "source": [
    "from sklearn.decomposition import PCA\n",
    "from sklearn.discriminant_analysis import LinearDiscriminantAnalysis\n",
    "\n",
    "X_train_flat = X_train.reshape(len(X_train), -1)\n",
    "X_test_flat = X_test.reshape(len(X_test), -1)\n",
    "\n",
    "pca = PCA(n_components=0.95)\n",
    "X_train_pca = pca.fit_transform(X_train_flat)\n",
    "X_test_pca = pca.transform(X_test_flat)\n",
    "\n",
    "lda = LinearDiscriminantAnalysis(n_components=9)\n",
    "X_train_lda = lda.fit_transform(X_train_flat, y_train)\n",
    "X_test_lda = lda.transform(X_test_flat)\n",
    "\n",
    "print(\"Shape of PCA-transformed training data:\", X_train_pca.shape)\n",
    "print(\"Shape of LDA-transformed training data:\", X_train_lda.shape)\n"
   ]
  },
  {
   "cell_type": "code",
   "execution_count": null,
   "metadata": {},
   "outputs": [],
   "source": [
    "from sklearn.neighbors import KNeighborsClassifier\n",
    "from sklearn.metrics import accuracy_score\n",
    "\n",
    "\n",
    "knn = KNeighborsClassifier(n_neighbors=5)\n",
    "\n",
    "knn.fit(X_train_pca, y_train)\n",
    "\n",
    "y_pred_pca = knn.predict(X_test_pca)\n",
    "\n",
    "accuracy_pca = accuracy_score(y_test, y_pred_pca)\n",
    "print(\"Accuracy on PCA-transformed test data:\", accuracy_pca)\n",
    "\n",
    "knn.fit(X_train_lda, y_train)\n",
    "\n",
    "y_pred_lda = knn.predict(X_test_lda)\n",
    "\n",
    "accuracy_lda = accuracy_score(y_test, y_pred_lda)\n",
    "print(\"Accuracy on LDA-transformed test data:\", accuracy_lda)\n"
   ]
  }
 ],
 "metadata": {
  "kernelspec": {
   "display_name": "Python 3 (ipykernel)",
   "language": "python",
   "name": "python3"
  },
  "language_info": {
   "codemirror_mode": {
    "name": "ipython",
    "version": 3
   },
   "file_extension": ".py",
   "mimetype": "text/x-python",
   "name": "python",
   "nbconvert_exporter": "python",
   "pygments_lexer": "ipython3",
   "version": "3.11.5"
  }
 },
 "nbformat": 4,
 "nbformat_minor": 2
}
